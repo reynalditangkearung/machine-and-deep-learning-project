{
  "nbformat": 4,
  "nbformat_minor": 0,
  "metadata": {
    "colab": {
      "provenance": [],
      "gpuType": "T4"
    },
    "kernelspec": {
      "name": "python3",
      "display_name": "Python 3"
    },
    "language_info": {
      "name": "python"
    },
    "accelerator": "GPU"
  },
  "cells": [
    {
      "cell_type": "markdown",
      "source": [
        "# MNIST Handwritten Digit Classification\n",
        "\n",
        "#### import library using PyTorch"
      ],
      "metadata": {
        "id": "e5DSXUMC8GrU"
      }
    },
    {
      "cell_type": "code",
      "source": [
        "import torch as torch\n",
        "import torchvision.datasets as datasets\n",
        "import torchvision.transforms as transforms\n",
        "import torch.nn as nn\n",
        "import matplotlib.pyplot as plt"
      ],
      "metadata": {
        "id": "u7b-THc_ASeL"
      },
      "execution_count": null,
      "outputs": []
    },
    {
      "cell_type": "markdown",
      "source": [
        "### 1. Loading MNIST Dataset"
      ],
      "metadata": {
        "id": "0Gco6eZm8uYx"
      }
    },
    {
      "cell_type": "code",
      "execution_count": null,
      "metadata": {
        "id": "E-ogwRMFStqg",
        "colab": {
          "base_uri": "https://localhost:8080/"
        },
        "outputId": "4e6891ef-93cb-440b-8bff-dd6abf18c0dd"
      },
      "outputs": [
        {
          "output_type": "stream",
          "name": "stdout",
          "text": [
            "Downloading http://yann.lecun.com/exdb/mnist/train-images-idx3-ubyte.gz\n",
            "Downloading http://yann.lecun.com/exdb/mnist/train-images-idx3-ubyte.gz to ./data/MNIST/raw/train-images-idx3-ubyte.gz\n"
          ]
        },
        {
          "output_type": "stream",
          "name": "stderr",
          "text": [
            "100%|██████████| 9912422/9912422 [00:00<00:00, 179229600.70it/s]\n"
          ]
        },
        {
          "output_type": "stream",
          "name": "stdout",
          "text": [
            "Extracting ./data/MNIST/raw/train-images-idx3-ubyte.gz to ./data/MNIST/raw\n",
            "\n",
            "Downloading http://yann.lecun.com/exdb/mnist/train-labels-idx1-ubyte.gz\n",
            "Downloading http://yann.lecun.com/exdb/mnist/train-labels-idx1-ubyte.gz to ./data/MNIST/raw/train-labels-idx1-ubyte.gz\n"
          ]
        },
        {
          "output_type": "stream",
          "name": "stderr",
          "text": [
            "100%|██████████| 28881/28881 [00:00<00:00, 96599436.86it/s]\n"
          ]
        },
        {
          "output_type": "stream",
          "name": "stdout",
          "text": [
            "Extracting ./data/MNIST/raw/train-labels-idx1-ubyte.gz to ./data/MNIST/raw\n",
            "\n",
            "Downloading http://yann.lecun.com/exdb/mnist/t10k-images-idx3-ubyte.gz\n",
            "Downloading http://yann.lecun.com/exdb/mnist/t10k-images-idx3-ubyte.gz to ./data/MNIST/raw/t10k-images-idx3-ubyte.gz\n"
          ]
        },
        {
          "output_type": "stream",
          "name": "stderr",
          "text": [
            "100%|██████████| 1648877/1648877 [00:00<00:00, 26870665.97it/s]\n"
          ]
        },
        {
          "output_type": "stream",
          "name": "stdout",
          "text": [
            "Extracting ./data/MNIST/raw/t10k-images-idx3-ubyte.gz to ./data/MNIST/raw\n",
            "\n",
            "Downloading http://yann.lecun.com/exdb/mnist/t10k-labels-idx1-ubyte.gz\n",
            "Downloading http://yann.lecun.com/exdb/mnist/t10k-labels-idx1-ubyte.gz to ./data/MNIST/raw/t10k-labels-idx1-ubyte.gz\n"
          ]
        },
        {
          "output_type": "stream",
          "name": "stderr",
          "text": [
            "100%|██████████| 4542/4542 [00:00<00:00, 22074772.62it/s]"
          ]
        },
        {
          "output_type": "stream",
          "name": "stdout",
          "text": [
            "Extracting ./data/MNIST/raw/t10k-labels-idx1-ubyte.gz to ./data/MNIST/raw\n",
            "\n"
          ]
        },
        {
          "output_type": "stream",
          "name": "stderr",
          "text": [
            "\n"
          ]
        }
      ],
      "source": [
        "transform = transforms.Compose([transforms.ToTensor(), transforms.Normalize((0.5,), (0.5,)),])\n",
        "\n",
        "mnist_trainset = datasets.MNIST(root= './data', train=True, download=True, transform=transform)\n",
        "train_loader = torch.utils.data.DataLoader(mnist_trainset, batch_size=10, shuffle=True)\n",
        "\n",
        "mnist_testset = datasets.MNIST(root= './data', train=False, download=True, transform=transform)\n",
        "test_loader = torch.utils.data.DataLoader(mnist_testset, batch_size=10, shuffle=True)"
      ]
    },
    {
      "cell_type": "markdown",
      "source": [
        "### 2. Visualize MNIST datasets."
      ],
      "metadata": {
        "id": "cxDPvrcqFiqs"
      }
    },
    {
      "cell_type": "code",
      "source": [
        "%matplotlib inline\n",
        "\n",
        "# Define a function to plot image\n",
        "def plot_images(images):\n",
        "  size, axs = plt.subplots(1, len(images), figsize=(10, 5))\n",
        "  for i, image in enumerate(images):\n",
        "    axs[i].imshow(image.squeeze().numpy(), cmap='gray')\n",
        "    axs[i].axis('off')\n",
        "\n",
        "# Get some image from the dataset\n",
        "image, label = next(iter(train_loader))\n",
        "plot_images(image[:10])"
      ],
      "metadata": {
        "colab": {
          "base_uri": "https://localhost:8080/",
          "height": 102
        },
        "id": "BCWzs3PaFiIp",
        "outputId": "23ab6edd-bba3-4b1c-84c4-2d07b5d28973"
      },
      "execution_count": null,
      "outputs": [
        {
          "output_type": "display_data",
          "data": {
            "text/plain": [
              "<Figure size 1000x500 with 10 Axes>"
            ],
            "image/png": "[encoded data removed]"
          },
          "metadata": {}
        }
      ]
    },
    {
      "cell_type": "markdown",
      "source": [
        "### 3. Neural Network model."
      ],
      "metadata": {
        "id": "EsdB9tDPJF2j"
      }
    },
    {
      "cell_type": "code",
      "source": [
        "class Net(nn.Module):\n",
        "  def __init__(self):\n",
        "    super(Net,self).__init__()\n",
        "    self.linear1 = nn.Linear(28*28, 100)\n",
        "    self.linear2 = nn.Linear(100, 50)\n",
        "    self.final = nn.Linear(50, 10)\n",
        "    self.relu = nn.ReLU()\n",
        "\n",
        "  # convert + flatten\n",
        "  def forward(self, img):\n",
        "    x = img.view(-1, 28*28)\n",
        "    x = self.relu(self.linear1(x))\n",
        "    x = self.relu(self.linear2(x))\n",
        "    x = self.final(x)\n",
        "    return x\n",
        "\n",
        "net = Net()"
      ],
      "metadata": {
        "id": "rOS8pNlnJJNG"
      },
      "execution_count": null,
      "outputs": []
    },
    {
      "cell_type": "markdown",
      "source": [
        "### 4. Setup hyperparameter such as Loss Function, Optimizer, Learning Rate, etc."
      ],
      "metadata": {
        "id": "YEZA7Lo3NSm5"
      }
    },
    {
      "cell_type": "code",
      "source": [
        "cross_el = nn.CrossEntropyLoss()\n",
        "optimizer = torch.optim.Adam(net.parameters(), lr=0.001)\n",
        "epoch = 20"
      ],
      "metadata": {
        "id": "cro0__TRNZrl"
      },
      "execution_count": null,
      "outputs": []
    },
    {
      "cell_type": "markdown",
      "source": [
        "### 5. Training loop and run a training model."
      ],
      "metadata": {
        "id": "EW8_jTFQO2oE"
      }
    },
    {
      "cell_type": "code",
      "source": [
        "for epoch in range(epoch):\n",
        "  net.train()\n",
        "  running_loss = 0.0\n",
        "\n",
        "  for data in train_loader:\n",
        "    x, y = data\n",
        "    optimizer.zero_grad()\n",
        "    output = net(x.view(-1, 28*28))\n",
        "    loss = cross_el(output, y)\n",
        "    loss.backward()\n",
        "    optimizer.step()\n",
        "\n",
        "    running_loss += loss.item()\n",
        "\n",
        "  print(f'[epoch: {epoch + 1}, {epoch + 1:5d}] loss: {running_loss / 2000:.5f}')"
      ],
      "metadata": {
        "colab": {
          "base_uri": "https://localhost:8080/"
        },
        "id": "NRfFG-X-O6dG",
        "outputId": "b8ff2d7e-1247-4042-cab3-b7177e17fd17"
      },
      "execution_count": null,
      "outputs": [
        {
          "output_type": "stream",
          "name": "stdout",
          "text": [
            "[epoch: 1,     1] loss: 0.98141\n",
            "[epoch: 2,     2] loss: 0.52595\n",
            "[epoch: 3,     3] loss: 0.40976\n",
            "[epoch: 4,     4] loss: 0.35497\n",
            "[epoch: 5,     5] loss: 0.31959\n",
            "[epoch: 6,     6] loss: 0.29328\n",
            "[epoch: 7,     7] loss: 0.27543\n",
            "[epoch: 8,     8] loss: 0.24943\n",
            "[epoch: 9,     9] loss: 0.23742\n",
            "[epoch: 10,    10] loss: 0.22949\n",
            "[epoch: 11,    11] loss: 0.21965\n",
            "[epoch: 12,    12] loss: 0.20163\n",
            "[epoch: 13,    13] loss: 0.20355\n",
            "[epoch: 14,    14] loss: 0.18625\n",
            "[epoch: 15,    15] loss: 0.19022\n",
            "[epoch: 16,    16] loss: 0.18525\n",
            "[epoch: 17,    17] loss: 0.17335\n",
            "[epoch: 18,    18] loss: 0.17069\n",
            "[epoch: 19,    19] loss: 0.16279\n",
            "[epoch: 20,    20] loss: 0.16554\n"
          ]
        }
      ]
    },
    {
      "cell_type": "code",
      "source": [
        "correct = 0\n",
        "total = 0\n",
        "with torch.no_grad():\n",
        "  for data in test_loader:\n",
        "    x, y = data\n",
        "    output = net(x.view(-1, 784))\n",
        "    for idx, i in enumerate(output):\n",
        "      if torch.argmax(i) == y[idx]:\n",
        "        correct +=1\n",
        "      total +=1"
      ],
      "metadata": {
        "id": "HlpqWy-PUFvj"
      },
      "execution_count": null,
      "outputs": []
    },
    {
      "cell_type": "markdown",
      "source": [
        "### 6. Evaluate Model using several performance metrics such as accuracy, confusion matrix, F1 Score, Precision, Recall, etc."
      ],
      "metadata": {
        "id": "4bDExjyAVCjM"
      }
    },
    {
      "cell_type": "code",
      "source": [
        "from sklearn.metrics import confusion_matrix\n",
        "from sklearn.metrics import precision_score\n",
        "from sklearn.metrics import recall_score\n",
        "from sklearn.metrics import f1_score\n",
        "\n",
        "# accuracy\n",
        "accuracy = correct / total\n",
        "print('Accuracy:', accuracy)\n",
        "\n",
        "# confusion matrix\n",
        "y_true = []\n",
        "y_pred = []\n",
        "\n",
        "with torch.no_grad():\n",
        "  for data in test_loader:\n",
        "    x, y = data\n",
        "    output = net(x.view(-1, 784))\n",
        "    for idx, i in enumerate(output):\n",
        "      y_true.append(y[idx].item())\n",
        "      y_pred.append(torch.argmax(i).item())\n",
        "\n",
        "confusion_matrix = confusion_matrix(y_true, y_pred)\n",
        "print('Confusion Matrix:')\n",
        "print(confusion_matrix)\n",
        "\n",
        "#precision\n",
        "precision = precision_score(y_true, y_pred, average='weighted')\n",
        "print('Precision:', precision)\n",
        "\n",
        "# recall\n",
        "recall = recall_score(y_true, y_pred, average='weighted')\n",
        "print('Recall:', recall)\n",
        "\n",
        "# F1 score\n",
        "f1_score = f1_score(y_true, y_pred, average='weighted')\n",
        "print('F1 Score:', f1_score)"
      ],
      "metadata": {
        "colab": {
          "base_uri": "https://localhost:8080/"
        },
        "id": "czb-j99bVJSK",
        "outputId": "db292ee5-f676-47c4-b61b-62d0dab849aa"
      },
      "execution_count": null,
      "outputs": [
        {
          "output_type": "stream",
          "name": "stdout",
          "text": [
            "Accuracy: 0.9676\n",
            "Confusion Matrix:\n",
            "[[ 955    1    1    1    4    4    2    5    2    5]\n",
            " [   0 1126    2    0    0    0    0    2    5    0]\n",
            " [   2    4  975    9    6    0    4   22   10    0]\n",
            " [   1    6    4  972    0    5    0   10    8    4]\n",
            " [   1    3    4    0  943    0    2    2    1   26]\n",
            " [   4    1    0   16    3  845    7    2    5    9]\n",
            " [   4    2    2    0   14    5  927    1    3    0]\n",
            " [   0    4    4    0    0    0    0 1013    3    4]\n",
            " [   3    1    2    7    2    3    2    5  944    5]\n",
            " [   2    1    0    4    6    1    1   16    2  976]]\n",
            "Precision: 0.9678783701629833\n",
            "Recall: 0.9676\n",
            "F1 Score: 0.967603109659023\n"
          ]
        }
      ]
    },
    {
      "cell_type": "markdown",
      "source": [
        "### 7. Describe and explain your Result."
      ],
      "metadata": {
        "id": "X2tHuNE-pbnT"
      }
    },
    {
      "cell_type": "code",
      "source": [
        "plt.imshow(x[3].view(28, 28))\n",
        "plt.show()\n",
        "print(torch.argmax(net(x[3].view(-1, 784))[0]))"
      ],
      "metadata": {
        "id": "W8vcSm4BgF4E",
        "colab": {
          "base_uri": "https://localhost:8080/",
          "height": 447
        },
        "outputId": "7c290369-008a-4af7-d314-106c7effc928"
      },
      "execution_count": null,
      "outputs": [
        {
          "output_type": "display_data",
          "data": {
            "text/plain": [
              "<Figure size 640x480 with 1 Axes>"
            ],
            "image/png": "[encoded data removed]"
          },
          "metadata": {}
        },
        {
          "output_type": "stream",
          "name": "stdout",
          "text": [
            "tensor(3)\n"
          ]
        }
      ]
    }
  ]
}